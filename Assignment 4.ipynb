{
 "cells": [
  {
   "cell_type": "markdown",
   "id": "c602d893",
   "metadata": {},
   "source": [
    "1. Suppose that a Firm pays its employee at the rate of $12 per hour. An employee has worked for 37\n",
    "hours. How much should the firm pay the employee? (Do normal way directly takes the input)"
   ]
  },
  {
   "cell_type": "code",
   "execution_count": 1,
   "id": "984e5ca1",
   "metadata": {},
   "outputs": [
    {
     "name": "stdout",
     "output_type": "stream",
     "text": [
      "Total amount paid by the firm: 444\n"
     ]
    }
   ],
   "source": [
    "Employee_rate_per_hour= 12\n",
    "Enter_number_of_worked_hours = 37\n",
    "total_payment= 12*37\n",
    "print(\"Total amount paid by the firm: {}\". format(total_payment))"
   ]
  },
  {
   "cell_type": "markdown",
   "id": "919234c7",
   "metadata": {},
   "source": [
    "2. How about prompting the user for the number of hours and using the input value to compute the\n",
    "total pay? (Above problem use eval concept and sep concept)"
   ]
  },
  {
   "cell_type": "code",
   "execution_count": 2,
   "id": "41d3f919",
   "metadata": {},
   "outputs": [
    {
     "name": "stdout",
     "output_type": "stream",
     "text": [
      "Enter employee rate per hour: 12\n",
      "Enter no. of worked hours: 37\n",
      "Total amount paid by the firm: 444.\n"
     ]
    }
   ],
   "source": [
    "rate_perhour= eval (input(\"Enter employee rate per hour: \"))\n",
    "work_hours= eval (input(\"Enter no. of worked hours: \"))\n",
    "total_payment= rate_perhour*work_hours\n",
    "print(\"Total amount paid by the firm: {}.\". format(total_payment, sep='.'))"
   ]
  },
  {
   "cell_type": "markdown",
   "id": "095a2396",
   "metadata": {},
   "source": [
    "3. For a certain academic subject the students are evaluated based on five tests \n",
    "    Quiz 1 (20 marks - 10% Weight),\n",
    "    Quiz 2 (20 marks - 10% Weight),\n",
    "    Class test (50 marks - 25% Weight),\n",
    "    Assignment (100 marks - 25% weight) and\n",
    "    Project (200 marks - 30% weight)\n",
    "    Design a program that will prompt the user for marks for each of the tests and calculate the overall\n",
    "    marks (out of 100)"
   ]
  },
  {
   "cell_type": "code",
   "execution_count": 3,
   "id": "45619a20",
   "metadata": {},
   "outputs": [
    {
     "name": "stdout",
     "output_type": "stream",
     "text": [
      "Enter the marks in quiz1: 15\n",
      "Enter the marks in quiz2: 18\n",
      "Enter the marks in class test: 45\n",
      "Enter the marks in Assignment: 85\n",
      "Enter the marks in Project: 180\n",
      "Student overall Marks: 89.8\n"
     ]
    }
   ],
   "source": [
    "quiz1= eval(input(\"Enter the marks in quiz1: \"))\n",
    "quiz2= eval(input(\"Enter the marks in quiz2: \"))\n",
    "class_test= eval(input(\"Enter the marks in class test: \")) \n",
    "assignment= eval(input(\"Enter the marks in Assignment: \"))\n",
    "project= eval(input(\"Enter the marks in Project: \"))\n",
    "q_1=quiz1*10/100\n",
    "q_2= quiz2*10/100\n",
    "c_t=class_test*25/100\n",
    "ass=assignment*25/100\n",
    "proj=project*30/100\n",
    "overall_marks=q_1+q_2+c_t+ass+proj\n",
    "print(\"Student overall Marks: {}\". format(overall_marks))\n",
    "            "
   ]
  },
  {
   "cell_type": "markdown",
   "id": "b3edecd6",
   "metadata": {},
   "source": [
    "4. If a five-digit number is input through the keyboard, write a program to calculate the sum of its\n",
    "digits."
   ]
  },
  {
   "cell_type": "code",
   "execution_count": 4,
   "id": "c53b7aa1",
   "metadata": {},
   "outputs": [
    {
     "name": "stdout",
     "output_type": "stream",
     "text": [
      "enter the number: 12345\n",
      "sum of five digits is: 15\n"
     ]
    }
   ],
   "source": [
    "num1=input(\"enter the number: \")\n",
    "digit1=int(num1[4])\n",
    "digit2=int(num1[3])\n",
    "digit3=int(num1[2])\n",
    "digit4=int(num1[1])\n",
    "digit5=int(num1[0])\n",
    "sum1=digit1+digit2+digit3+digit4+digit5\n",
    "print(\"sum of five digits is: {}\". format (sum1))"
   ]
  },
  {
   "cell_type": "markdown",
   "id": "05116706",
   "metadata": {},
   "source": [
    "5. If a five-digit number is input through the keyboard, write a program to print a new number by\n",
    "adding one to each of its digits. For example if the number that is input is 12371 then the output\n",
    "should be displayed as 23482"
   ]
  },
  {
   "cell_type": "code",
   "execution_count": 5,
   "id": "900575f0",
   "metadata": {},
   "outputs": [
    {
     "name": "stdout",
     "output_type": "stream",
     "text": [
      "enter the number: 12345\n",
      "23456\n"
     ]
    }
   ],
   "source": [
    "num1=input(\"enter the number: \")\n",
    "\n",
    "digit1=int(num1[0])\n",
    "digit2=int(num1[1])\n",
    "digit3=int(num1[2])\n",
    "digit4=int(num1[3])\n",
    "digit5=int(num1[4])\n",
    "a1=digit1+1\n",
    "a2=digit2+1\n",
    "a3=digit3+1\n",
    "a4=digit4+1\n",
    "a5=digit5+1\n",
    "print(str(a1)+str(a2)+str(a3)+str(a4)+str(a5))"
   ]
  },
  {
   "cell_type": "markdown",
   "id": "a427676c",
   "metadata": {},
   "source": [
    "6.  For a certain academic subject the students are evaluated based on five tests \n",
    "    Quiz 1 (20 marks - 10% Weight),\n",
    "    Quiz 2 (20 marks - 10% Weight),\n",
    "    Class test (50 marks - 25% Weight),\n",
    "    Assignment (100 marks - 25% weight) and\n",
    "    Project (200 marks - 30% weight)\n",
    "    Design a program that will prompt the user for marks for each of the tests and calculate the overall\n",
    "    marks (out of 100)\n",
    "    Add an extension to the problem to display grades:\n",
    "    Display the grades of students using the following table.\n",
    "    Score    Grade\n",
    ">= 60       First Class\n",
    ">= 40       Second Class                       # conditional statements (recall the problem)\n",
    "< 40        Fail"
   ]
  },
  {
   "cell_type": "code",
   "execution_count": 6,
   "id": "1247250c",
   "metadata": {},
   "outputs": [
    {
     "name": "stdout",
     "output_type": "stream",
     "text": [
      "Enter the marks in quiz1: 15\n",
      "Enter the marks in quiz2: 18\n",
      "Enter the marks in class test: 40\n",
      "Enter the marks in Assignment: 90\n",
      "Enter the marks in Project: 190\n",
      "Student overall Marks: 92.8\n",
      "First Class\n"
     ]
    }
   ],
   "source": [
    "quiz1= eval(input(\"Enter the marks in quiz1: \"))\n",
    "quiz2= eval(input(\"Enter the marks in quiz2: \"))\n",
    "class_test= eval(input(\"Enter the marks in class test: \")) \n",
    "assignment= eval(input(\"Enter the marks in Assignment: \"))\n",
    "project= eval(input(\"Enter the marks in Project: \"))\n",
    "q_1=quiz1*10/100\n",
    "q_2= quiz2*10/100\n",
    "c_t=class_test*25/100\n",
    "ass=assignment*25/100\n",
    "proj=project*30/100\n",
    "overall_marks=q_1+q_2+c_t+ass+proj\n",
    "print(\"Student overall Marks: {}\". format(overall_marks))\n",
    "\n",
    "def total_marks():\n",
    "    if overall_marks>=60:\n",
    "        print(\"First Class\")\n",
    "    elif overall_marks>=40:\n",
    "        print(\"Second Class\")\n",
    "    else:\n",
    "        Print(\"Fail\")\n",
    "        \n",
    "total_marks()"
   ]
  },
  {
   "cell_type": "markdown",
   "id": "391a3768",
   "metadata": {},
   "source": [
    "7. How about prompting the user for the number of hours and using the input value to compute the\n",
    "total pay?                         # recall the problem"
   ]
  },
  {
   "cell_type": "code",
   "execution_count": 7,
   "id": "4796f1ed",
   "metadata": {},
   "outputs": [
    {
     "name": "stdout",
     "output_type": "stream",
     "text": [
      "Enter rate per hour: 12\n",
      "Enter number of working hours: 0\n",
      "No working hours\n"
     ]
    }
   ],
   "source": [
    "rate_perhour= eval (input(\"Enter rate per hour: \"))\n",
    "work_hours= eval (input(\"Enter number of working hours: \"))\n",
    "\n",
    "try:\n",
    "    def cal_total_pay():\n",
    "        \n",
    "        if work_hours>0:\n",
    "            total_payment= rate_perhour*work_hours\n",
    "            print(\"Total amount paid by the firm: {}.\". format(total_payment))\n",
    "            \n",
    "        else:\n",
    "            print(\"No working hours\")\n",
    "            \n",
    "    cal_total_pay()\n",
    "            \n",
    "except exception as e:\n",
    "    print(e)\n",
    "    "
   ]
  },
  {
   "cell_type": "markdown",
   "id": "1e2c79f3",
   "metadata": {},
   "source": [
    "8. Rewrite the pay program (refer problem 2) using try and expect so that the program handles nonnumeric\n",
    "    input gracefully by printing a message and exiting the program. The following shows two\n",
    "    executions of the program:\n",
    "    Enter hours: 20\n",
    "    Enter rate: nine\n",
    "    Error, please enter numeric input\n",
    "    try & except---"
   ]
  },
  {
   "cell_type": "code",
   "execution_count": 10,
   "id": "f2ac96ab",
   "metadata": {},
   "outputs": [
    {
     "name": "stdout",
     "output_type": "stream",
     "text": [
      "Enter the number of hours worked: 20\n",
      "Enter the hourly rate: nine\n",
      "Error, please enter numeric input\n"
     ]
    }
   ],
   "source": [
    "try:\n",
    "    worked_hours= eval(input(\"Enter the number of hours worked: \"))\n",
    "    rate_per_hour= eval(input(\"Enter the hourly rate: \"))\n",
    "    \n",
    "    total_payment= worked_hours* rate_per_hour\n",
    "    print(\"Total Payment: \", total_payment)\n",
    "    \n",
    "except:\n",
    "    print(\"Error, please enter numeric input\")\n",
    "    "
   ]
  },
  {
   "cell_type": "markdown",
   "id": "30947421",
   "metadata": {},
   "source": [
    "9. conditional statement:\n",
    "    Write a program that asks the user to enter a length in centimeters. If the user enters a negative\n",
    "    length, the program should tell the user that the entry is invalid. Otherwise, the program should\n",
    "    convert the length to inches and print out the result. There are 2.54 centimeters in an inch. "
   ]
  },
  {
   "cell_type": "code",
   "execution_count": 1,
   "id": "f090f0c2",
   "metadata": {},
   "outputs": [
    {
     "name": "stdout",
     "output_type": "stream",
     "text": [
      "Enter length: 5\n",
      "length in inches: 1.968503937007874 \n"
     ]
    }
   ],
   "source": [
    "length_cm=eval(input(\"Enter length: \"))\n",
    "def cm_inch():\n",
    "    if length_cm < 0:\n",
    "        print(\"Invalid Entry\")\n",
    "    else:\n",
    "        length_inch = length_cm / 2.54\n",
    "        print(\"length in inches: {} \".format(length_inch))\n",
    "\n",
    "cm_inch()\n"
   ]
  },
  {
   "cell_type": "markdown",
   "id": "2be46694",
   "metadata": {},
   "source": [
    "10. Ask the user for a temperature. Then ask them what units, Celsius or Fahrenheit, the temperature is\n",
    "    in. Your program should convert the temperature to the other unit. The conversions are F = 9 5 C +\n",
    "    32 and C = 5 9 (F − 32)."
   ]
  },
  {
   "cell_type": "code",
   "execution_count": 12,
   "id": "c3176b0e",
   "metadata": {},
   "outputs": [
    {
     "name": "stdout",
     "output_type": "stream",
     "text": [
      "Enter the tem. in Fahrenheit Degrees: 200\n",
      "Temp.200 converted into centigrade degrees 93.33\n"
     ]
    }
   ],
   "source": [
    "def tem_convert():\n",
    "    try:\n",
    "        temperature= eval(input(\"Enter the tem. in Fahrenheit Degrees: \"))\n",
    "        centigrade=round((temperature-32)*5/9,2)\n",
    "        print(\"Temp.{} converted into centigrade degrees {}\". format (temperature, centigrade))\n",
    "    except exception as e:\n",
    "        print(\"The error is:\",e)\n",
    "tem_convert()"
   ]
  },
  {
   "cell_type": "markdown",
   "id": "1a0d42f3",
   "metadata": {},
   "source": [
    "11.Ask the user to enter a temperature in Celsius. The program should print a message based on the\n",
    "temperature:\n",
    "• If the temperature is less than -273.15, print that the temperature is invalid because it is\n",
    "below absolute zero.\n",
    "• If it is exactly -273.15, print that the temperature is absolute 0.\n",
    "• If the temperature is between -273.15 and 0, print that the temperature is below freezing.\n",
    "• If it is 0, print that the temperature is at the freezing point.\n",
    "• If it is between 0 and 100, print that the temperature is in the normal range.\n",
    "• If it is 100, print that the temperature is at the boiling point.\n",
    "• If it is above 100, print that the temperature is above the boiling point."
   ]
  },
  {
   "cell_type": "code",
   "execution_count": 13,
   "id": "d539aa49",
   "metadata": {},
   "outputs": [
    {
     "name": "stdout",
     "output_type": "stream",
     "text": [
      "enter the temperature in Celsius: 108\n",
      "temperature is above the boiling point\n"
     ]
    }
   ],
   "source": [
    "try:\n",
    "    tem_cel=eval(input(\"enter the temperature in Celsius: \"))\n",
    "    if tem_cel< -237.15:\n",
    "        print(\"invalid, it is below absolute 0.\")\n",
    "    elif tem_cel== -273.15:\n",
    "        print(\"temperature is absolute 0.\")\n",
    "    elif -273.15 < tem_cel<0:\n",
    "        print(\"temperature is below freezing.\")\n",
    "    elif tem_cel==0:\n",
    "        print(\"temperature is at freezing point.\")\n",
    "    elif tem_cel<100:\n",
    "        print(\"temperature is in the normal range.\")\n",
    "    elif tem_cel==100:\n",
    "        print(\"temperature is at boiling point.\")\n",
    "    else:\n",
    "        print(\"temperature is above the boiling point\")\n",
    "except exception as e:\n",
    "    print(e)"
   ]
  },
  {
   "cell_type": "markdown",
   "id": "12dda026",
   "metadata": {},
   "source": [
    "12. Write a program that asks the user how many credits they have taken. If they have taken 23 or less,\n",
    "    print that the student is a freshman. If they have taken between 24 and 53, print that they are a\n",
    "    sophomore. The range for juniors is 54 to 83, and for seniors it is 84 and over."
   ]
  },
  {
   "cell_type": "code",
   "execution_count": 14,
   "id": "e0a59b74",
   "metadata": {},
   "outputs": [
    {
     "name": "stdout",
     "output_type": "stream",
     "text": [
      "Enter the creidts they have taken: 82\n",
      "Juniors\n"
     ]
    }
   ],
   "source": [
    "credits= eval(input(\"Enter the creidts they have taken: \"))\n",
    "def credits_1():\n",
    "    if credits<=23:\n",
    "        print(\"Freshman\")\n",
    "    elif 24<= credits<=53:\n",
    "        print(\"Sophomore\")\n",
    "    elif 54<=credits<=83:\n",
    "        print(\"Juniors\")\n",
    "    else:\n",
    "        print(\"Seniors\")\n",
    "credits_1()"
   ]
  },
  {
   "cell_type": "markdown",
   "id": "1a136f82",
   "metadata": {},
   "source": [
    "13. Generate a random number between 1 and 10. Ask the user to guess the number and print a\n",
    "message based on whether they get it right or not."
   ]
  },
  {
   "cell_type": "code",
   "execution_count": 15,
   "id": "ec011926",
   "metadata": {},
   "outputs": [
    {
     "name": "stdout",
     "output_type": "stream",
     "text": [
      "6\n",
      "enter the user guess number (1 to 10): 6\n",
      "Yes, Correct Number\n"
     ]
    }
   ],
   "source": [
    "import random\n",
    "hide_number=random.randint(1,10)\n",
    "print(hide_number)\n",
    "user_guess=eval(input(\"enter the user guess number (1 to 10): \"))\n",
    "if user_guess==hide_number:\n",
    "    print(\"Yes, Correct Number\")\n",
    "else:\n",
    "    print(\"No, Wrong Number\")\n",
    "    "
   ]
  },
  {
   "cell_type": "markdown",
   "id": "bd050b7f",
   "metadata": {},
   "source": [
    "14. A store charges $12 per item if you buy less than 10 items. If you buy between 10 and 99 items, the\n",
    "cost is $10 per item. If you buy 100 or more items, the cost is $7 per item. Write a program that asks\n",
    "the user how many items they are buying and prints the total cost."
   ]
  },
  {
   "cell_type": "code",
   "execution_count": 16,
   "id": "ec3b8f1f",
   "metadata": {},
   "outputs": [
    {
     "name": "stdout",
     "output_type": "stream",
     "text": [
      "Enter the number of items: 3\n",
      "Enter the total cost: 36\n"
     ]
    }
   ],
   "source": [
    "def total_cost():\n",
    "    no_items= eval(input(\"Enter the number of items: \"))\n",
    "    if no_items<10:\n",
    "        cat_1=no_items*12\n",
    "        print(\"Enter the total cost: {}\". format(cat_1))\n",
    "    elif 10<=no_items<=99:\n",
    "        cat_2=no_items*10\n",
    "        print(\"Enter the total cost: {}\". format(cat_2))\n",
    "    else:\n",
    "        cat_3=no_items*7\n",
    "        print(\"Enter the total cost: {}\". format(cat_3))\n",
    "total_cost()"
   ]
  },
  {
   "cell_type": "markdown",
   "id": "13b5951b",
   "metadata": {},
   "source": [
    "15. Write a program that asks the user for two numbers and prints Close if the numbers are within .001\n",
    "of each other and Not close otherwise."
   ]
  },
  {
   "cell_type": "code",
   "execution_count": 17,
   "id": "bdcc81b6",
   "metadata": {},
   "outputs": [
    {
     "name": "stdout",
     "output_type": "stream",
     "text": [
      "Enter the first number: 5.001\n",
      "Enter the second number: 5.002\n",
      "Close\n"
     ]
    }
   ],
   "source": [
    "def are_close(num1, num2):\n",
    "    return (num1-num2)<=0.001\n",
    "try: \n",
    "    num1=eval(input(\"Enter the first number: \"))\n",
    "    num2=eval(input(\"Enter the second number: \"))\n",
    "    if are_close(num1,num2):\n",
    "        print(\"Close\")\n",
    "    else:\n",
    "        print (\"Not Close\")\n",
    "except:\n",
    "    print(\"incorrect value\")"
   ]
  },
  {
   "cell_type": "markdown",
   "id": "ecd4dc58",
   "metadata": {},
   "source": [
    "16. A year is a leap year if it is divisible by 4, except that years divisible by 100 are not leap years unless\n",
    "    they are also divisible by 400. Write a program that asks the user for a year and prints out whether it\n",
    "    is a leap year or not."
   ]
  },
  {
   "cell_type": "code",
   "execution_count": 1,
   "id": "3f6d460e",
   "metadata": {},
   "outputs": [
    {
     "name": "stdout",
     "output_type": "stream",
     "text": [
      "Enter a year: 2000\n",
      "2000 is a leap year\n"
     ]
    }
   ],
   "source": [
    "def leap_year(year):\n",
    "    return (year%4==0 and year%100!=0 or year%400==0)\n",
    "    \n",
    "try:\n",
    "    year=eval (input(\"Enter a year: \"))\n",
    "    if leap_year(year):\n",
    "        print(\"{} is a leap year\". format(year))\n",
    "    else:\n",
    "        print(\"{} is not a leap year\". format(year))\n",
    "except exception as e:\n",
    "    print(e)\n",
    "        "
   ]
  },
  {
   "cell_type": "markdown",
   "id": "345ae0f7",
   "metadata": {},
   "source": [
    "17. Write a program that asks the user to enter a number and prints out all the divisors of that number.\n",
    "[Hint: the % operator is used to tell if a number is divisible by something."
   ]
  },
  {
   "cell_type": "code",
   "execution_count": 19,
   "id": "4930b709",
   "metadata": {},
   "outputs": [
    {
     "name": "stdout",
     "output_type": "stream",
     "text": [
      "Enter a number: 8\n",
      "Divisors of 8 are: [1, 2, 4, 8]\n"
     ]
    }
   ],
   "source": [
    "try:\n",
    "    num = int(input(\"Enter a number: \"))\n",
    "    if num <= 0:\n",
    "        print(\"Please enter a positive integer.\")\n",
    "    else:\n",
    "        divisors_num = [i for i in range(1, num + 1) if num % i == 0]\n",
    "        print(\"Divisors of\", num, \"are: {}\".format(divisors_num))\n",
    "        \n",
    "except exception as e:\n",
    "    print(e)"
   ]
  },
  {
   "cell_type": "markdown",
   "id": "12b6ab7f",
   "metadata": {},
   "source": [
    "18. Write a program that asks the user for an hour between 1 and 12, asks them to enter am or pm, and\n",
    "asks them how many hours into the future they want to go.\n",
    "Print out what the hour will be that many hours into the future, printing am or pm as appropriate.\n",
    "An example is shown below.\n",
    "Enter hour: 8\n",
    "am (1) or pm (2)? 1\n",
    "How many hours ahead? 5\n",
    "New hour: 1 pm"
   ]
  },
  {
   "cell_type": "code",
   "execution_count": 20,
   "id": "1fdb6de6",
   "metadata": {},
   "outputs": [
    {
     "name": "stdout",
     "output_type": "stream",
     "text": [
      "Enter an hour: 8\n",
      "Enter am_pm: am\n",
      "Enter how many hours into the future time you want go: 5\n",
      "New hour: 1 pm\n"
     ]
    }
   ],
   "source": [
    "def future_time():\n",
    "    present_hour=eval(input(\"Enter an hour: \"))\n",
    "    am_pm=str(input(\"Enter am_pm: \"))\n",
    "    future_hours=eval(input(\"Enter how many hours into the future time you want go: \"))\n",
    "    \n",
    "    total_hours=present_hour+future_hours\n",
    "    f_h=total_hours%12\n",
    "    future_am_pm=am_pm\n",
    "    \n",
    "    if total_hours>=12:\n",
    "        future_am_pm = 'pm' if am_pm == 'am' else 'am'\n",
    "        print(\"New hour:\",f_h,future_am_pm)\n",
    "\n",
    "future_time()"
   ]
  },
  {
   "cell_type": "code",
   "execution_count": null,
   "id": "6218212e",
   "metadata": {},
   "outputs": [],
   "source": []
  },
  {
   "cell_type": "code",
   "execution_count": null,
   "id": "b561ae15",
   "metadata": {},
   "outputs": [],
   "source": []
  }
 ],
 "metadata": {
  "kernelspec": {
   "display_name": "Python 3 (ipykernel)",
   "language": "python",
   "name": "python3"
  },
  "language_info": {
   "codemirror_mode": {
    "name": "ipython",
    "version": 3
   },
   "file_extension": ".py",
   "mimetype": "text/x-python",
   "name": "python",
   "nbconvert_exporter": "python",
   "pygments_lexer": "ipython3",
   "version": "3.10.9"
  }
 },
 "nbformat": 4,
 "nbformat_minor": 5
}
